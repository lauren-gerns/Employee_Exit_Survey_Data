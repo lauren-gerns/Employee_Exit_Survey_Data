{
 "cells": [
  {
   "cell_type": "markdown",
   "metadata": {
    "collapsed": true
   },
   "source": [
    "This data is based off of exit surveys from the Department of Education, Training and Employment (DETE) and the Technical and Further Education Institute (TAFE) in Queensland, Austrailia. The goal is to learn if employees who leave are dissatisfied for any particular resign and also to see if younger vs. older employees are leaving because they are dissatisfied. "
   ]
  },
  {
   "cell_type": "code",
   "execution_count": 194,
   "metadata": {},
   "outputs": [],
   "source": [
    "# Import libraries\n",
    "import pandas as pd\n",
    "import numpy as np"
   ]
  },
  {
   "cell_type": "code",
   "execution_count": 195,
   "metadata": {},
   "outputs": [],
   "source": [
    "# Read in csv files\n",
    "dete_survey = pd.read_csv('dete_survey.csv')\n",
    "tafe_survey = pd.read_csv('tafe_survey.csv')"
   ]
  },
  {
   "cell_type": "code",
   "execution_count": 196,
   "metadata": {},
   "outputs": [],
   "source": [
    "# Viewing info about datasets\n",
    "#dete_survey.info()\n",
    "#tafe_survey.info()\n",
    "#dete_survey.isnull().sum()\n",
    "#tafe_survey.isnull()\n",
    "#dete_survey.columns\n",
    "#tafe_survey.columns\n",
    "#dete_survey.head()\n",
    "#tafe_survey.head()"
   ]
  },
  {
   "cell_type": "markdown",
   "metadata": {},
   "source": [
    "Comparing the datasets-- each of them have different categorical columns for why the employee left. There are also separate columns for the ethnicity of the employee. It seems like there are a lot of n/a variables in many of the columns. Also seems to be many columns that won't be needed. "
   ]
  },
  {
   "cell_type": "code",
   "execution_count": 197,
   "metadata": {},
   "outputs": [],
   "source": [
    "# Reading in dete data again, with NaN instead of \"Not Stated\"\n",
    "dete_survey = pd.read_csv('dete_survey.csv', na_values = \"Not Stated\")"
   ]
  },
  {
   "cell_type": "markdown",
   "metadata": {},
   "source": [
    "In the dete_survey the values that read \"Not Stated\" will be converted to NaN values to make it easier to work wih the data. Several of the columns from both data sets have been dropped since they won't help determine why the employees left. "
   ]
  },
  {
   "cell_type": "code",
   "execution_count": 198,
   "metadata": {},
   "outputs": [],
   "source": [
    "# Removing columns that won't be used\n",
    "dete_survey_updated = dete_survey.drop(dete_survey.columns[28:49], axis = 1)\n",
    "tafe_survey_updated = tafe_survey.drop(tafe_survey.columns[17:66], axis = 1)"
   ]
  },
  {
   "cell_type": "markdown",
   "metadata": {},
   "source": [
    "Renaming columns so all titles lowercase, no trailing whitespace and spaces are replaced with '_'\n",
    "This will make them easier to read and also to make it easier to compare data between the two sets of data. "
   ]
  },
  {
   "cell_type": "code",
   "execution_count": 199,
   "metadata": {},
   "outputs": [],
   "source": [
    "# Renaming columns\n",
    "dete_survey_updated.columns = dete_survey_updated.columns.str.replace(' ','_').str.strip().str.lower()\n",
    "#print(dete_survey_updated.columns)"
   ]
  },
  {
   "cell_type": "code",
   "execution_count": 200,
   "metadata": {},
   "outputs": [],
   "source": [
    "new_tafe_col = {'Record ID': 'id', 'CESSATION YEAR': 'cease_date', 'Reason for ceasing employment': 'separationtype', 'Gender. What is your Gender?': 'gender', 'CurrentAge. Current Age': 'age', 'Employment Type. Employment Type': 'employment_status', 'Classification. Classification': 'position', 'LengthofServiceOverall. Overall Length of Service at Institute (in years)': 'institute_service', 'LengthofServiceCurrent. Length of Service at current workplace (in years)': 'role_service'}"
   ]
  },
  {
   "cell_type": "code",
   "execution_count": 201,
   "metadata": {},
   "outputs": [],
   "source": [
    "tafe_survey_updated = tafe_survey_updated.rename(columns = new_tafe_col)"
   ]
  },
  {
   "cell_type": "code",
   "execution_count": 202,
   "metadata": {},
   "outputs": [],
   "source": [
    "#dete_survey_updated.head()\n",
    "#tafe_survey_updated.head()"
   ]
  },
  {
   "cell_type": "markdown",
   "metadata": {},
   "source": [
    "Since we only care about the data from those who left the company due to resignation, we are removing all other columns where employees left for other reasons. "
   ]
  },
  {
   "cell_type": "code",
   "execution_count": 203,
   "metadata": {},
   "outputs": [
    {
     "data": {
      "text/plain": [
       "Age Retirement                          285\n",
       "Resignation-Other reasons               150\n",
       "Resignation-Other employer               91\n",
       "Resignation-Move overseas/interstate     70\n",
       "Voluntary Early Retirement (VER)         67\n",
       "Ill Health Retirement                    61\n",
       "Other                                    49\n",
       "Contract Expired                         34\n",
       "Termination                              15\n",
       "Name: separationtype, dtype: int64"
      ]
     },
     "execution_count": 203,
     "metadata": {},
     "output_type": "execute_result"
    }
   ],
   "source": [
    "dete_survey_updated['separationtype'].value_counts().copy()"
   ]
  },
  {
   "cell_type": "code",
   "execution_count": 204,
   "metadata": {},
   "outputs": [
    {
     "data": {
      "text/plain": [
       "Resignation                 340\n",
       "Contract Expired            127\n",
       "Retrenchment/ Redundancy    104\n",
       "Retirement                   82\n",
       "Transfer                     25\n",
       "Termination                  23\n",
       "Name: separationtype, dtype: int64"
      ]
     },
     "execution_count": 204,
     "metadata": {},
     "output_type": "execute_result"
    }
   ],
   "source": [
    "tafe_survey_updated['separationtype'].value_counts()"
   ]
  },
  {
   "cell_type": "code",
   "execution_count": 205,
   "metadata": {},
   "outputs": [],
   "source": [
    "# Removing values from 'separationtype' that don't involve resignation\n",
    "dete_resignations = dete_survey_updated.loc[(dete_survey_updated['separationtype'] == 'Resignation-Other reasons') | (dete_survey_updated['separationtype'] == 'Resignation-Other employer') | (dete_survey_updated['separationtype'] == 'Resignation-Move overseas/interstate')].copy()\n",
    "tafe_resignations = tafe_survey_updated.loc[(tafe_survey_updated['separationtype'] == 'Resignation')]"
   ]
  },
  {
   "cell_type": "markdown",
   "metadata": {},
   "source": [
    "Checking to make sure the start and end dates make sense"
   ]
  },
  {
   "cell_type": "code",
   "execution_count": 206,
   "metadata": {},
   "outputs": [],
   "source": [
    "#print(dete_resignations['cease_date'].value_counts())\n",
    "dete_resignations['cease_date'] = dete_resignations['cease_date'].str.split('/').str.get(-1)\n",
    "dete_resignations['cease_date'] = dete_resignations['cease_date'].astype('float')"
   ]
  },
  {
   "cell_type": "code",
   "execution_count": 207,
   "metadata": {},
   "outputs": [],
   "source": [
    "# Checking start and end dates\n",
    "#print(dete_resignations['cease_date'].value_counts())\n",
    "#print(dete_resignations['dete_start_date'].value_counts(ascending=True))\n",
    "#print(tafe_resignations['cease_date'].value_counts(ascending=True))"
   ]
  },
  {
   "cell_type": "markdown",
   "metadata": {},
   "source": [
    "The years of resignations from Tafe all look ok. The earliest is from 2009, and the latest is up to 2011. The start and end dates from Dete also look fine. The start dates range from 1963 up to 2011 and the end dates range from 2006 to 2013."
   ]
  },
  {
   "cell_type": "code",
   "execution_count": 208,
   "metadata": {},
   "outputs": [],
   "source": [
    "# Creating a new column in dete_resignations\n",
    "dete_resignations['institute_service'] = dete_resignations['cease_date'] - dete_resignations['dete_start_date']"
   ]
  },
  {
   "cell_type": "markdown",
   "metadata": {},
   "source": [
    "A new column in dete_resignations was created that shows the length of time in years that an employee worked at Dete. This column matches the column with the same name in the tafe_resignations data. "
   ]
  },
  {
   "cell_type": "code",
   "execution_count": 209,
   "metadata": {},
   "outputs": [
    {
     "name": "stdout",
     "output_type": "stream",
     "text": [
      "-                                         277\n",
      "Contributing Factors. Dissatisfaction      55\n",
      "Name: Contributing Factors. Dissatisfaction, dtype: int64\n",
      "-                      270\n",
      "Job Dissatisfaction     62\n",
      "Name: Contributing Factors. Job Dissatisfaction, dtype: int64\n"
     ]
    }
   ],
   "source": [
    "# Looking at columns in tafe data related to dissatisfaction\n",
    "print(tafe_resignations['Contributing Factors. Dissatisfaction'].value_counts())\n",
    "print(tafe_resignations['Contributing Factors. Job Dissatisfaction'].value_counts())"
   ]
  },
  {
   "cell_type": "code",
   "execution_count": 210,
   "metadata": {},
   "outputs": [],
   "source": [
    "# Updating Dissatisfaction cols so only contain boolean or na values\n",
    "def update_vals(value):\n",
    "    if pd.isnull(value):\n",
    "        return np.nan\n",
    "    elif value == '-':\n",
    "        return False\n",
    "    else: \n",
    "        return True"
   ]
  },
  {
   "cell_type": "code",
   "execution_count": 211,
   "metadata": {},
   "outputs": [],
   "source": [
    "con_factors = ['Contributing Factors. Dissatisfaction', 'Contributing Factors. Job Dissatisfaction']\n",
    "tafe_resignations_up = tafe_resignations.copy()\n",
    "\n",
    "tafe_resignations_up['dissatisfied'] = tafe_resignations_up[con_factors].applymap(update_vals).any(axis=1, skipna=False)"
   ]
  },
  {
   "cell_type": "code",
   "execution_count": 212,
   "metadata": {},
   "outputs": [],
   "source": [
    "dete_con = ['job_dissatisfaction', 'dissatisfaction_with_the_department', 'physical_work_environment', 'lack_of_recognition', 'lack_of_job_security', 'work_location', 'employment_conditions', 'work_life_balance', 'workload'  ]\n",
    "dete_resignations_up = dete_resignations.copy()\n",
    "dete_resignations_up['dissatisfied'] = dete_resignations_up[dete_con].applymap(update_vals).any(axis=1, skipna=False)\n",
    "#print(dete_resignations_up['dissatisfied'].value_counts())\n",
    "#print(dete_survey_updated['job_dissatisfaction'].value_counts())"
   ]
  },
  {
   "cell_type": "markdown",
   "metadata": {},
   "source": [
    "A new column called 'dissatisfied' has been created in both data sets. This will make it easier to compare the two data sets. The new column is a combination of multiple columns in each data set. "
   ]
  },
  {
   "cell_type": "code",
   "execution_count": 213,
   "metadata": {},
   "outputs": [],
   "source": [
    "# Adding columns named 'institute' to each dataset\n",
    "dete_resignations_up['institute'] = 'DETE'\n",
    "tafe_resignations_up['institute'] = 'TAFE'"
   ]
  },
  {
   "cell_type": "code",
   "execution_count": 214,
   "metadata": {},
   "outputs": [],
   "source": [
    "# Combine dataframes\n",
    "combined = pd.concat([dete_resignations_up, tafe_resignations_up])"
   ]
  },
  {
   "cell_type": "code",
   "execution_count": 215,
   "metadata": {},
   "outputs": [],
   "source": [
    "# Dropping cols with < 500 non-null values\n",
    "combined_updated = combined.dropna(axis='columns', thresh = 500)"
   ]
  },
  {
   "cell_type": "markdown",
   "metadata": {},
   "source": [
    "The DETE and TAFE dataframes have now been combined and any column with less < 500 non-null values has been deleted"
   ]
  },
  {
   "cell_type": "code",
   "execution_count": 216,
   "metadata": {},
   "outputs": [
    {
     "name": "stdout",
     "output_type": "stream",
     "text": [
      "Index(['id', 'separationtype', 'cease_date', 'position', 'employment_status',\n",
      "       'gender', 'age', 'institute_service', 'dissatisfied', 'institute'],\n",
      "      dtype='object')\n"
     ]
    }
   ],
   "source": [
    "print(combined_updated.columns)"
   ]
  },
  {
   "cell_type": "code",
   "execution_count": 217,
   "metadata": {},
   "outputs": [
    {
     "name": "stderr",
     "output_type": "stream",
     "text": [
      "<ipython-input-217-a89ccefcd400>:3: SettingWithCopyWarning: \n",
      "A value is trying to be set on a copy of a slice from a DataFrame.\n",
      "Try using .loc[row_indexer,col_indexer] = value instead\n",
      "\n",
      "See the caveats in the documentation: https://pandas.pydata.org/pandas-docs/stable/user_guide/indexing.html#returning-a-view-versus-a-copy\n",
      "  combined_updated['institute_service'] = combined_updated['institute_service'].str.replace('Less than 1 year', '1').str.replace('More than 20 years', '20').str.split('-').str.get(0)\n",
      "<ipython-input-217-a89ccefcd400>:4: SettingWithCopyWarning: \n",
      "A value is trying to be set on a copy of a slice from a DataFrame.\n",
      "Try using .loc[row_indexer,col_indexer] = value instead\n",
      "\n",
      "See the caveats in the documentation: https://pandas.pydata.org/pandas-docs/stable/user_guide/indexing.html#returning-a-view-versus-a-copy\n",
      "  combined_updated['institute_service'] = combined_updated['institute_service'].astype('float')\n"
     ]
    }
   ],
   "source": [
    "# Extract years of service from institute_service column\n",
    "combined_updated['institute_service'].astype('str')\n",
    "combined_updated['institute_service'] = combined_updated['institute_service'].str.replace('Less than 1 year', '1').str.replace('More than 20 years', '20').str.split('-').str.get(0)\n",
    "combined_updated['institute_service'] = combined_updated['institute_service'].astype('float')\n"
   ]
  },
  {
   "cell_type": "markdown",
   "metadata": {},
   "source": [
    "The 'institute_service' column which showed how many years the employees have worked at a company has been cleaned. Then depending on how long they worked there they have been moved into 1 of 4 categories: 'new' if less than 3 years there, 'experienced' if there between 3-6 years, 'established' if there from 7-10 years, and 'veteran' if there for 11 or more years. These categories have been moved into a new column called 'service_cat'"
   ]
  },
  {
   "cell_type": "code",
   "execution_count": 218,
   "metadata": {},
   "outputs": [],
   "source": [
    "# Create a function that maps each year to a career stage\n",
    "# new < 3yrs\n",
    "# experienced 3-6 yrs\n",
    "# established 7-10 yrs\n",
    "# veteran 11 + yrs\n",
    "def career_stage(val):\n",
    "    if pd.isnull(val):\n",
    "        return np.nan\n",
    "    elif val < 3:\n",
    "        return 'new'\n",
    "    elif val >= 3 and val <= 6:\n",
    "        return 'experienced'\n",
    "    elif val >= 7 and val <= 10:\n",
    "        return 'established'\n",
    "    elif val >= 11:\n",
    "        return 'veteran'\n",
    "        "
   ]
  },
  {
   "cell_type": "code",
   "execution_count": 219,
   "metadata": {},
   "outputs": [
    {
     "name": "stdout",
     "output_type": "stream",
     "text": [
      "3              NaN\n",
      "5              NaN\n",
      "8              NaN\n",
      "9              NaN\n",
      "11             NaN\n",
      "          ...     \n",
      "696    experienced\n",
      "697            new\n",
      "698            NaN\n",
      "699    experienced\n",
      "701    experienced\n",
      "Name: service_cat, Length: 651, dtype: object\n"
     ]
    },
    {
     "name": "stderr",
     "output_type": "stream",
     "text": [
      "<ipython-input-219-731937e0c99d>:1: SettingWithCopyWarning: \n",
      "A value is trying to be set on a copy of a slice from a DataFrame.\n",
      "Try using .loc[row_indexer,col_indexer] = value instead\n",
      "\n",
      "See the caveats in the documentation: https://pandas.pydata.org/pandas-docs/stable/user_guide/indexing.html#returning-a-view-versus-a-copy\n",
      "  combined_updated['service_cat'] = combined_updated['institute_service'].apply(career_stage)\n"
     ]
    }
   ],
   "source": [
    "combined_updated['service_cat'] = combined_updated['institute_service'].apply(career_stage)\n",
    "print(combined_updated['service_cat'])"
   ]
  },
  {
   "cell_type": "code",
   "execution_count": 220,
   "metadata": {},
   "outputs": [
    {
     "data": {
      "text/plain": [
       "True     402\n",
       "False    241\n",
       "NaN        8\n",
       "Name: dissatisfied, dtype: int64"
      ]
     },
     "execution_count": 220,
     "metadata": {},
     "output_type": "execute_result"
    }
   ],
   "source": [
    "combined_updated['dissatisfied'].value_counts(dropna = False)"
   ]
  },
  {
   "cell_type": "code",
   "execution_count": 221,
   "metadata": {},
   "outputs": [
    {
     "name": "stderr",
     "output_type": "stream",
     "text": [
      "<ipython-input-221-b8033a18578b>:2: SettingWithCopyWarning: \n",
      "A value is trying to be set on a copy of a slice from a DataFrame.\n",
      "Try using .loc[row_indexer,col_indexer] = value instead\n",
      "\n",
      "See the caveats in the documentation: https://pandas.pydata.org/pandas-docs/stable/user_guide/indexing.html#returning-a-view-versus-a-copy\n",
      "  combined_updated['dissatisfied'] = combined_updated[['dissatisfied']].fillna(axis = 'columns', value = True)\n"
     ]
    }
   ],
   "source": [
    "# replacing missing values in dissatisified column with True\n",
    "combined_updated['dissatisfied'] = combined_updated[['dissatisfied']].fillna(axis = 'columns', value = True)\n"
   ]
  },
  {
   "cell_type": "code",
   "execution_count": 222,
   "metadata": {},
   "outputs": [],
   "source": [
    "#Calculate percentage of dissatisfied employees \n",
    "dis_pivot = combined_updated.pivot_table(values = 'dissatisfied', index = 'service_cat')"
   ]
  },
  {
   "cell_type": "code",
   "execution_count": 223,
   "metadata": {},
   "outputs": [
    {
     "data": {
      "text/plain": [
       "<matplotlib.axes._subplots.AxesSubplot at 0x7f49f123f100>"
      ]
     },
     "execution_count": 223,
     "metadata": {},
     "output_type": "execute_result"
    },
    {
     "data": {
      "image/png": "[encoded data removed]",
      "text/plain": [
       "<Figure size 600x400 with 1 Axes>"
      ]
     },
     "metadata": {},
     "output_type": "display_data"
    }
   ],
   "source": [
    "# Plotting results\n",
    "%matplotlib inline\n",
    "dis_pivot.plot(kind = 'bar', title = 'Dissatisfied Employees')"
   ]
  },
  {
   "cell_type": "markdown",
   "metadata": {},
   "source": [
    "The highest percentage of those who were dissatisfied were those who were there for 7-10 years. Although it is only about 10% higher than the other three categories. The other 3 seem fairly evenly distributed, each betwen 25-30%. "
   ]
  }
 ],
 "metadata": {
  "kernelspec": {
   "display_name": "Python 3",
   "language": "python",
   "name": "python3"
  },
  "language_info": {
   "codemirror_mode": {
    "name": "ipython",
    "version": 3
   },
   "file_extension": ".py",
   "mimetype": "text/x-python",
   "name": "python",
   "nbconvert_exporter": "python",
   "pygments_lexer": "ipython3",
   "version": "3.8.2"
  }
 },
 "nbformat": 4,
 "nbformat_minor": 2
}
